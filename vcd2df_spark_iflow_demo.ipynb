{
  "cells": [
    {
      "cell_type": "markdown",
      "metadata": {
        "id": "view-in-github",
        "colab_type": "text"
      },
      "source": [
        "<a href=\"https://colab.research.google.com/github/cd-public/D505/blob/master/ipynb/vcd2df_spark_iflow_demo.ipynb\" target=\"_parent\"><img src=\"https://colab.research.google.com/assets/colab-badge.svg\" alt=\"Open In Colab\"/></a>"
      ]
    },
    {
      "cell_type": "code",
      "source": [
        "!git clone https://github.com/cd-public/Isadora.git"
      ],
      "metadata": {
        "colab": {
          "base_uri": "https://localhost:8080/"
        },
        "id": "Jdpuzc3HN0cT",
        "outputId": "e5dde0bf-dcc6-4b49-a778-53abf2bd79af"
      },
      "execution_count": 1,
      "outputs": [
        {
          "output_type": "stream",
          "name": "stdout",
          "text": [
            "Cloning into 'Isadora'...\n",
            "remote: Enumerating objects: 5272, done.\u001b[K\n",
            "remote: Counting objects: 100% (12/12), done.\u001b[K\n",
            "remote: Compressing objects: 100% (7/7), done.\u001b[K\n",
            "remote: Total 5272 (delta 5), reused 9 (delta 5), pack-reused 5260 (from 1)\u001b[K\n",
            "Receiving objects: 100% (5272/5272), 106.03 MiB | 7.26 MiB/s, done.\n",
            "Resolving deltas: 100% (4388/4388), done.\n",
            "Updating files: 100% (4176/4176), done.\n"
          ]
        }
      ]
    },
    {
      "cell_type": "code",
      "source": [
        "ls Isadora/model/r5/vcds"
      ],
      "metadata": {
        "colab": {
          "base_uri": "https://localhost:8080/"
        },
        "id": "9T3US0qoSa3f",
        "outputId": "1d999f96-fc9c-49a1-8f30-3189d7cae451"
      },
      "execution_count": 2,
      "outputs": [
        {
          "output_type": "stream",
          "name": "stdout",
          "text": [
            "alu_add_sub.vcd                   instr_sltu.vcd\n",
            "alu_eq.vcd                        instr_slt.vcd\n",
            "alu_lts.vcd                       instr_srai.vcd\n",
            "alu_ltu.vcd                       instr_sra.vcd\n",
            "alu_out_0_q.vcd                   instr_srli.vcd\n",
            "alu_out_0.vcd                     instr_srl.vcd\n",
            "alu_out_q.vcd                     instr_sub.vcd\n",
            "alu_out.vcd                       instr_sw.vcd\n",
            "alu_shl.vcd                       instr_timer.vcd\n",
            "alu_shr.vcd                       instr_waitirq.vcd\n",
            "alu_wait_2.vcd                    instr_xori.vcd\n",
            "alu_wait.vcd                      instr_xor.vcd\n",
            "cached_ascii_instr.vcd            irq_active.vcd\n",
            "cached_insn_imm.vcd               irq_delay.vcd\n",
            "cached_insn_opcode.vcd            irq_mask.vcd\n",
            "cached_insn_rd.vcd                irq_pending.vcd\n",
            "cached_insn_rs1.vcd               irq_state.vcd\n",
            "cached_insn_rs2.vcd               is_alu_reg_imm.vcd\n",
            "clear_prefetched_high_word_q.vcd  is_alu_reg_reg.vcd\n",
            "clear_prefetched_high_word.vcd    is_beq_bne_blt_bge_bltu_bgeu.vcd\n",
            "compressed_instr.vcd              is_compare.vcd\n",
            "count_cycle.vcd                   is_jalr_addi_slti_sltiu_xori_ori_andi.vcd\n",
            "count_instr.vcd                   is_lb_lh_lw_lbu_lhu.vcd\n",
            "cpuregs_rs1.vcd                   is_lbu_lhu_lw.vcd\n",
            "cpuregs_rs2.vcd                   is_lui_auipc_jal_jalr_addi_add_sub.vcd\n",
            "cpuregs_wrdata.vcd                is_lui_auipc_jal.vcd\n",
            "cpuregs_write.vcd                 is_sb_sh_sw.vcd\n",
            "cpu_state.vcd                     is_slli_srli_srai.vcd\n",
            "current_pc.vcd                    is_sll_srl_sra.vcd\n",
            "dbg_ascii_instr.vcd               is_slti_blt_slt.vcd\n",
            "dbg_ascii_state.vcd               is_sltiu_bltu_sltu.vcd\n",
            "dbg_insn_addr.vcd                 last_mem_valid.vcd\n",
            "dbg_insn_imm.vcd                  latched_branch.vcd\n",
            "dbg_insn_opcode.vcd               latched_compr.vcd\n",
            "dbg_insn_rd.vcd                   latched_is_lb.vcd\n",
            "dbg_insn_rs1.vcd                  latched_is_lh.vcd\n",
            "dbg_insn_rs2.vcd                  latched_is_lu.vcd\n",
            "dbg_next.vcd                      latched_rd.vcd\n",
            "dbg_rs1val_valid.vcd              latched_stalu.vcd\n",
            "dbg_rs1val.vcd                    latched_store.vcd\n",
            "dbg_rs2val_valid.vcd              latched_trace.vcd\n",
            "dbg_rs2val.vcd                    mem_16bit_buffer.vcd\n",
            "dbg_valid_insn.vcd                mem_addr.vcd\n",
            "decoded_imm_j.vcd                 mem_do_prefetch.vcd\n",
            "decoded_imm.vcd                   mem_do_rdata.vcd\n",
            "decoded_rd.vcd                    mem_do_rinst.vcd\n",
            "decoded_rs1.vcd                   mem_do_wdata.vcd\n",
            "decoded_rs2.vcd                   mem_instr.vcd\n",
            "decoded_rs.vcd                    mem_la_firstword_reg.vcd\n",
            "decoder_pseudo_trigger_q.vcd      mem_la_secondword.vcd\n",
            "decoder_pseudo_trigger.vcd        mem_la_wdata.vcd\n",
            "decoder_trigger_q.vcd             mem_la_wstrb.vcd\n",
            "decoder_trigger.vcd               mem_rdata_q.vcd\n",
            "do_waitirq.vcd                    mem_rdata_word.vcd\n",
            "eoi.vcd                           mem_state.vcd\n",
            "instr_addi.vcd                    mem_valid.vcd\n",
            "instr_add.vcd                     mem_wdata.vcd\n",
            "instr_andi.vcd                    mem_wordsize.vcd\n",
            "instr_and.vcd                     mem_wstrb.vcd\n",
            "instr_auipc.vcd                   new_ascii_instr.vcd\n",
            "instr_beq.vcd                     next_insn_opcode.vcd\n",
            "instr_bgeu.vcd                    next_irq_pending.vcd\n",
            "instr_bge.vcd                     pcpi_insn.vcd\n",
            "instr_bltu.vcd                    pcpi_int_rd.vcd\n",
            "instr_blt.vcd                     pcpi_int_ready.vcd\n",
            "instr_bne.vcd                     pcpi_int_wait.vcd\n",
            "instr_ecall_ebreak.vcd            pcpi_int_wr.vcd\n",
            "instr_getq.vcd                    pcpi_timeout_counter.vcd\n",
            "instr_jalr.vcd                    pcpi_timeout.vcd\n",
            "instr_jal.vcd                     pcpi_valid.vcd\n",
            "instr_lbu.vcd                     prefetched_high_word.vcd\n",
            "instr_lb.vcd                      q_ascii_instr.vcd\n",
            "instr_lhu.vcd                     q_insn_imm.vcd\n",
            "instr_lh.vcd                      q_insn_opcode.vcd\n",
            "instr_lui.vcd                     q_insn_rd.vcd\n",
            "instr_lw.vcd                      q_insn_rs1.vcd\n",
            "instr_maskirq.vcd                 q_insn_rs2.vcd\n",
            "instr_ori.vcd                     reg_next_pc.vcd\n",
            "instr_or.vcd                      reg_op1.vcd\n",
            "instr_rdcycleh.vcd                reg_op2.vcd\n",
            "instr_rdcycle.vcd                 reg_out.vcd\n",
            "instr_rdinstrh.vcd                reg_pc.vcd\n",
            "instr_rdinstr.vcd                 reg_sh.vcd\n",
            "instr_retirq.vcd                  set_mem_do_rdata.vcd\n",
            "instr_sb.vcd                      set_mem_do_rinst.vcd\n",
            "instr_setq.vcd                    set_mem_do_wdata.vcd\n",
            "instr_sh.vcd                      timer.vcd\n",
            "instr_slli.vcd                    trace_data.vcd\n",
            "instr_sll.vcd                     trace_valid.vcd\n",
            "instr_sltiu.vcd                   trap.vcd\n",
            "instr_slti.vcd\n"
          ]
        }
      ]
    },
    {
      "cell_type": "code",
      "source": [
        "# adapted from https://github.com/vcd2df/py\n",
        "# use a generator over a split (still lazy) instead of file ptr\n",
        "\n",
        "# on my device, /home/user/.local/bin/spark-submit script.py\n",
        "\n",
        "import pandas as pd\n",
        "import pickle\n",
        "\n",
        "def get_vars(lines):\n",
        "    line = next(lines)\n",
        "    vars = {} # insertion order >= 3.7\n",
        "    while \"$enddefinitions\" not in line:\n",
        "        if \"var\" in line:\n",
        "            parts = line.split()\n",
        "            if parts[4] not in vars.values():\n",
        "                vars[parts[3]] = parts[4]\n",
        "        line = next(lines)\n",
        "    return vars\n",
        "\n",
        "def str2df(str):\n",
        "    lines = (line for line in str.splitlines())\n",
        "    vars = get_vars(lines)\n",
        "    names = vars.copy()\n",
        "    vars = {var:-1 for var in vars.keys()}\n",
        "    df = {}\n",
        "    while \"$dumpvars\" not in next(lines):\n",
        "        pass\n",
        "    time = \"#0\"\n",
        "    for line in lines:\n",
        "        if \"#\" in line[0]: # Check for tick\n",
        "            df[time] = pd.Series(vars.values())\n",
        "            time = line.strip()\n",
        "        else: # Else two cases, words and bits\n",
        "            if \" \" in line: # word\n",
        "                val, var = line[1:].strip().split()\n",
        "            else: # bit\n",
        "                val, var = line[0], line[1:].strip()\n",
        "            if var in vars:\n",
        "                vars[var] = int(val, 2) if val.isdigit() else -1\n",
        "    df = pd.DataFrame(df, dtype=int)\n",
        "    df.index = names.values()\n",
        "    return df\n",
        "\n",
        "# \"shadow\" registers contain iflow status\n",
        "# find changes from 0 to 1 at nonzero times\n",
        "def iflow_times(local):\n",
        "    local = local[local.index.str.contains(\"shadow\")]\n",
        "    local = local[local.any(axis=1)]\n",
        "    local = local.idxmax(axis=1)\n",
        "    local = local[local != \"#0\"]\n",
        "    local = local.apply(lambda s : int(s[1:]))\n",
        "    return local\n",
        "\n",
        "from pyspark.sql import SparkSession\n",
        "\n",
        "spark = SparkSession.builder.appName(\"Python Spark SQL vcd2df iflow demo\").getOrCreate()\n",
        "\n",
        "from pyspark.sql.functions import col, udf, input_file_name\n",
        "\n",
        "# VCDs from here: https://github.com/cd-public/Isadora/tree/master/model/single/vcds\n",
        "# Set path appropriately, perhaps\n",
        "df = spark.read.text(\"Isadora/model/r5/vcds/*.vcd\", wholetext=True).withColumn(\"filename\", input_file_name())\n",
        "df = df.select(col(\"value\"), udf(lambda fn : fn.split(\"/\")[-1].split(\".\")[0])(col(\"filename\")).alias(\"src\"))\n",
        "# switch from udf to rdd map to not wrangle schema\n",
        "mid = df.rdd.map(lambda x: {x[1].replace(\"shadow_\",\"\"):iflow_times(str2df(x[0]))})\n",
        "xs = [x for x in mid.collect() if not list(x.values())[0].empty] # reduce stage\n",
        "spark.stop()"
      ],
      "metadata": {
        "id": "ieUlrwbTcVzZ"
      },
      "execution_count": null,
      "outputs": []
    },
    {
      "cell_type": "code",
      "source": [
        "xs"
      ],
      "metadata": {
        "id": "wgS9ztOlTNME"
      },
      "execution_count": null,
      "outputs": []
    }
  ],
  "metadata": {
    "colab": {
      "provenance": [],
      "authorship_tag": "ABX9TyPwgmEmEFCi9HKX4cNVSBbI",
      "include_colab_link": true
    },
    "kernelspec": {
      "display_name": "Python 3",
      "name": "python3"
    },
    "language_info": {
      "name": "python"
    }
  },
  "nbformat": 4,
  "nbformat_minor": 0
}